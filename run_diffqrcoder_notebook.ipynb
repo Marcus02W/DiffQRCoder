{
 "cells": [
  {
   "cell_type": "markdown",
   "id": "35101936",
   "metadata": {},
   "source": [
    "# DiffQRCoder Pipeline Notebook\n",
    "\n",
    "This notebook generates QR codes from URLs and creates artistic QR codes using DiffQRCoder."
   ]
  },
  {
   "cell_type": "code",
   "execution_count": null,
   "id": "bb8338ad",
   "metadata": {},
   "outputs": [],
   "source": [
    "import subprocess\n",
    "import sys\n",
    "import os\n",
    "\n",
    "# Ensure output directories exist\n",
    "os.makedirs(\"qrcodes\", exist_ok=True)\n",
    "os.makedirs(\"outputs\", exist_ok=True)"
   ]
  },
  {
   "cell_type": "markdown",
   "id": "a8e5b781",
   "metadata": {},
   "source": [
    "## Step 1: Generate QR Code from URL"
   ]
  },
  {
   "cell_type": "code",
   "execution_count": null,
   "id": "696bf455",
   "metadata": {},
   "outputs": [],
   "source": [
    "def generate_qr_from_url(url, output_path=\"qrcodes\", filename=None):\n",
    "    \"\"\"\n",
    "    Generate a QR code from URL using the plain_code_from_url.py script.\n",
    "    \"\"\"\n",
    "    args = [sys.executable, \"DiffQRCoder/plain_code_from_url.py\", url, \"--output-path\", output_path]\n",
    "    \n",
    "    if filename:\n",
    "        args.extend([\"--filename\", filename])\n",
    "    \n",
    "    result = subprocess.run(args, capture_output=True, text=True)\n",
    "    \n",
    "    if result.returncode == 0:\n",
    "        print(\"✅ QR code generated successfully!\")\n",
    "        print(result.stdout)\n",
    "    else:\n",
    "        print(f\"❌ Error generating QR code (code {result.returncode})\")\n",
    "        print(result.stderr)\n",
    "    \n",
    "    return result\n",
    "\n",
    "# Generate QR code\n",
    "url = \"https://example.com/your-url-here\"\n",
    "qr_result = generate_qr_from_url(url)"
   ]
  },
  {
   "cell_type": "markdown",
   "id": "6d30caaf",
   "metadata": {},
   "source": [
    "## Step 2: Create Artistic QR Code with DiffQRCoder"
   ]
  },
  {
   "cell_type": "code",
   "execution_count": null,
   "id": "052cadda",
   "metadata": {},
   "outputs": [],
   "source": [
    "def run_diffqrcoder(prompt, qrcode_path, output_path, \n",
    "                   qrcode_module_size=20, \n",
    "                   controlnet_conditioning_scale=1.05,\n",
    "                   scanning_robust_guidance_scale=50,\n",
    "                   perceptual_guidance_scale=20):\n",
    "    \"\"\"\n",
    "    Run DiffQRCoder with specified parameters using subprocess.\n",
    "    \"\"\"\n",
    "    args = [\n",
    "        sys.executable, \"DiffQRCoder/run_diffqrcoder.py\",\n",
    "        \"--prompt\", prompt,\n",
    "        \"--qrcode_path\", qrcode_path,\n",
    "        \"--qrcode_module_size\", str(qrcode_module_size),\n",
    "        \"--controlnet_conditioning_scale\", str(controlnet_conditioning_scale),\n",
    "        \"--scanning_robust_guidance_scale\", str(scanning_robust_guidance_scale),\n",
    "        \"--perceptual_guidance_scale\", str(perceptual_guidance_scale),\n",
    "        \"--output_path\", output_path\n",
    "    ]\n",
    "    \n",
    "    result = subprocess.run(args, capture_output=True, text=True)\n",
    "    \n",
    "    if result.returncode == 0:\n",
    "        print(f\"✅ Success! Artistic QR code saved to: {output_path}\")\n",
    "        print(result.stdout)\n",
    "    else:\n",
    "        print(f\"❌ Error (code {result.returncode})\")\n",
    "        print(result.stderr)\n",
    "    \n",
    "    return result\n",
    "\n",
    "# Create artistic QR code\n",
    "diffqr_result = run_diffqrcoder(\n",
    "    prompt=\"A healthy berry muffin\",\n",
    "    qrcode_path=\"qrcodes/example.com_your-url-here.png\",  # Update this based on your URL\n",
    "    output_path=\"outputs/muffin_qrcode.png\"\n",
    ")"
   ]
  },
  {
   "cell_type": "markdown",
   "id": "032f6559",
   "metadata": {},
   "source": [
    "## Complete Pipeline Function"
   ]
  },
  {
   "cell_type": "code",
   "execution_count": null,
   "id": "fd660497",
   "metadata": {},
   "outputs": [],
   "source": [
    "def create_artistic_qr_pipeline(url, prompt, output_filename):\n",
    "    \"\"\"\n",
    "    Complete pipeline: Generate QR code from URL, then create artistic version.\n",
    "    \"\"\"\n",
    "    print(f\"🔗 Processing URL: {url}\")\n",
    "    print(f\"🎨 Prompt: {prompt}\")\n",
    "    print(\"-\" * 50)\n",
    "    \n",
    "    # Step 1: Generate basic QR code\n",
    "    qr_result = generate_qr_from_url(url)\n",
    "    if qr_result.returncode != 0:\n",
    "        return False\n",
    "    \n",
    "    # Extract the generated filename from the URL\n",
    "    from urllib.parse import urlparse\n",
    "    parsed = urlparse(url)\n",
    "    qr_filename = (parsed.netloc + parsed.path).replace('/', '_').replace('\\\\', '_').rstrip('_') + '.png'\n",
    "    qr_path = f\"qrcodes/{qr_filename}\"\n",
    "    \n",
    "    print(f\"\\n🎭 Creating artistic QR code...\")\n",
    "    \n",
    "    # Step 2: Create artistic QR code\n",
    "    diffqr_result = run_diffqrcoder(\n",
    "        prompt=prompt,\n",
    "        qrcode_path=qr_path,\n",
    "        output_path=f\"outputs/{output_filename}\"\n",
    "    )\n",
    "    \n",
    "    return diffqr_result.returncode == 0\n",
    "\n",
    "# Example usage\n",
    "success = create_artistic_qr_pipeline(\n",
    "    url=\"https://github.com/your-repo\",\n",
    "    prompt=\"A futuristic digital landscape with neon lights\",\n",
    "    output_filename=\"github_artistic_qr.png\"\n",
    ")\n",
    "\n",
    "if success:\n",
    "    print(\"\\n🎉 Pipeline completed successfully!\")\n",
    "else:\n",
    "    print(\"\\n💥 Pipeline failed!\")"
   ]
  }
 ],
 "metadata": {
  "language_info": {
   "name": "python"
  }
 },
 "nbformat": 4,
 "nbformat_minor": 5
}
